{
 "cells": [
  {
   "cell_type": "code",
   "execution_count": 1,
   "id": "3a9c0aa1",
   "metadata": {},
   "outputs": [
    {
     "name": "stdout",
     "output_type": "stream",
     "text": [
      "Estimated probability of absorption at N: 0.0\n",
      "Estimated mean absorption time: 51.25\n",
      "\n",
      "Theoretical P(hit N) = 1.3682336285817935e-05\n",
      "\n",
      "Short report:\n",
      "For N=200, p=0.49, drift slightly downward (q>p).\n",
      "→ The probability of hitting the upper barrier N is quite low.\n",
      "→ Mean absorption time represents expected steps before getting trapped at 0 or N.\n",
      "→ With p<0.5, most paths drift down and get absorbed at 0 quickly.\n"
     ]
    }
   ],
   "source": [
    "import numpy as np\n",
    "\n",
    "def simulate_random_walk(N=200, p=0.49, n_sim=10000):\n",
    "    q = 1 - p\n",
    "    hits_N = 0\n",
    "    times = []\n",
    "\n",
    "    for _ in range(n_sim):\n",
    "        x = 1  # start from 1, since 0 is absorbing\n",
    "        t = 0\n",
    "        while 0 < x < N:\n",
    "            x += np.random.choice([1, -1], p=[p, q])\n",
    "            t += 1\n",
    "        if x == N:\n",
    "            hits_N += 1\n",
    "        times.append(t)\n",
    "\n",
    "    prob_hit_N = hits_N / n_sim\n",
    "    mean_time = np.mean(times)\n",
    "\n",
    "    return prob_hit_N, mean_time, np.array(times)\n",
    "\n",
    "# Run simulation\n",
    "N = 200\n",
    "p = 0.49\n",
    "prob, mean_t, times = simulate_random_walk(N, p, n_sim=10000)\n",
    "\n",
    "print(\"Estimated probability of absorption at N:\", prob)\n",
    "print(\"Estimated mean absorption time:\", mean_t)\n",
    "\n",
    "# Theoretical comparison\n",
    "q = 1 - p\n",
    "theoretical_prob = (1 - (q/p)) / (1 - (q/p)**N)\n",
    "print(\"\\nTheoretical P(hit N) =\", theoretical_prob)\n",
    "\n",
    "print(\"\\nShort report:\")\n",
    "print(f\"For N={N}, p={p}, drift slightly downward (q>p).\")\n",
    "print(\"→ The probability of hitting the upper barrier N is quite low.\")\n",
    "print(\"→ Mean absorption time represents expected steps before getting trapped at 0 or N.\")\n",
    "print(\"→ With p<0.5, most paths drift down and get absorbed at 0 quickly.\")\n"
   ]
  }
 ],
 "metadata": {
  "kernelspec": {
   "display_name": "base",
   "language": "python",
   "name": "python3"
  },
  "language_info": {
   "codemirror_mode": {
    "name": "ipython",
    "version": 3
   },
   "file_extension": ".py",
   "mimetype": "text/x-python",
   "name": "python",
   "nbconvert_exporter": "python",
   "pygments_lexer": "ipython3",
   "version": "3.11.4"
  }
 },
 "nbformat": 4,
 "nbformat_minor": 5
}
